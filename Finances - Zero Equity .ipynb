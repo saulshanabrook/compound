{
 "cells": [
  {
   "cell_type": "code",
   "execution_count": 15,
   "metadata": {},
   "outputs": [
    {
     "data": {
      "text/plain": [
       "RendererRegistry(active='jupyterlab', registered=['colab', 'default', 'html', 'json', 'jupyterlab', 'kaggle', 'mimetype', 'nteract', 'png', 'svg', 'zeppelin'])"
      ]
     },
     "execution_count": 15,
     "metadata": {},
     "output_type": "execute_result"
    }
   ],
   "source": [
    "import pandas as pd\n",
    "import altair as alt\n",
    "from altair import expr, datum\n",
    "\n",
    "alt.renderers"
   ]
  },
  {
   "cell_type": "code",
   "execution_count": 2,
   "metadata": {
    "collapsed": true,
    "jupyter": {
     "outputs_hidden": true
    }
   },
   "outputs": [
    {
     "name": "stdout",
     "output_type": "stream",
     "text": [
      "Collecting altair\n",
      "  Using cached https://files.pythonhosted.org/packages/01/55/0bb2226e34f21fa549c3f4557b4f154a5632f61132a969da17c95ca8eab9/altair-4.1.0-py3-none-any.whl\n",
      "Requirement already satisfied, skipping upgrade: pandas>=0.18 in /usr/local/Caskroom/miniconda/base/envs/compound/lib/python3.7/site-packages (from altair) (0.25.3)\n",
      "Requirement already satisfied, skipping upgrade: entrypoints in /usr/local/Caskroom/miniconda/base/envs/compound/lib/python3.7/site-packages (from altair) (0.3)\n",
      "Requirement already satisfied, skipping upgrade: jsonschema in /usr/local/Caskroom/miniconda/base/envs/compound/lib/python3.7/site-packages (from altair) (3.2.0)\n",
      "Requirement already satisfied, skipping upgrade: numpy in /usr/local/Caskroom/miniconda/base/envs/compound/lib/python3.7/site-packages (from altair) (1.17.3)\n",
      "Requirement already satisfied, skipping upgrade: jinja2 in /usr/local/Caskroom/miniconda/base/envs/compound/lib/python3.7/site-packages (from altair) (2.10.3)\n",
      "Requirement already satisfied, skipping upgrade: toolz in /usr/local/Caskroom/miniconda/base/envs/compound/lib/python3.7/site-packages (from altair) (0.10.0)\n",
      "Requirement already satisfied, skipping upgrade: pytz>=2017.2 in /usr/local/Caskroom/miniconda/base/envs/compound/lib/python3.7/site-packages (from pandas>=0.18->altair) (2019.3)\n",
      "Requirement already satisfied, skipping upgrade: python-dateutil>=2.6.1 in /usr/local/Caskroom/miniconda/base/envs/compound/lib/python3.7/site-packages (from pandas>=0.18->altair) (2.8.1)\n",
      "Requirement already satisfied, skipping upgrade: attrs>=17.4.0 in /usr/local/Caskroom/miniconda/base/envs/compound/lib/python3.7/site-packages (from jsonschema->altair) (19.3.0)\n",
      "Requirement already satisfied, skipping upgrade: setuptools in /usr/local/Caskroom/miniconda/base/envs/compound/lib/python3.7/site-packages (from jsonschema->altair) (42.0.2.post20191201)\n",
      "Requirement already satisfied, skipping upgrade: pyrsistent>=0.14.0 in /usr/local/Caskroom/miniconda/base/envs/compound/lib/python3.7/site-packages (from jsonschema->altair) (0.15.6)\n",
      "Requirement already satisfied, skipping upgrade: six>=1.11.0 in /usr/local/Caskroom/miniconda/base/envs/compound/lib/python3.7/site-packages (from jsonschema->altair) (1.13.0)\n",
      "Requirement already satisfied, skipping upgrade: importlib-metadata; python_version < \"3.8\" in /usr/local/Caskroom/miniconda/base/envs/compound/lib/python3.7/site-packages (from jsonschema->altair) (1.3.0)\n",
      "Requirement already satisfied, skipping upgrade: MarkupSafe>=0.23 in /usr/local/Caskroom/miniconda/base/envs/compound/lib/python3.7/site-packages (from jinja2->altair) (1.1.1)\n",
      "Requirement already satisfied, skipping upgrade: zipp>=0.5 in /usr/local/Caskroom/miniconda/base/envs/compound/lib/python3.7/site-packages (from importlib-metadata; python_version < \"3.8\"->jsonschema->altair) (0.6.0)\n",
      "Requirement already satisfied, skipping upgrade: more-itertools in /usr/local/Caskroom/miniconda/base/envs/compound/lib/python3.7/site-packages (from zipp>=0.5->importlib-metadata; python_version < \"3.8\"->jsonschema->altair) (8.0.2)\n",
      "Installing collected packages: altair\n",
      "  Found existing installation: altair 4.0.0\n",
      "    Uninstalling altair-4.0.0:\n",
      "      Successfully uninstalled altair-4.0.0\n",
      "Successfully installed altair-4.1.0\n"
     ]
    }
   ],
   "source": [
    "!pip install -U altair"
   ]
  },
  {
   "cell_type": "code",
   "execution_count": 12,
   "metadata": {},
   "outputs": [],
   "source": [
    "def select_range(name: str, default, min, max, step):\n",
    "    selection = alt.selection_single(\n",
    "        bind=alt.binding_range(min=min, max=max, step=step, name=name),\n",
    "        fields=['_'],\n",
    "        init={'_': default}\n",
    "    )\n",
    "    return selection, selection._"
   ]
  },
  {
   "cell_type": "code",
   "execution_count": 13,
   "metadata": {},
   "outputs": [],
   "source": [
    "lease_term_selection, lease_term = select_range(\n",
    "    'Lease Term', 30, 0, 45, 5\n",
    ")\n",
    "# https://patch.com/massachusetts/boston/2020-residential-property-tax-rates-344-ma-communities\n",
    "interest_selection, interest = select_range(\n",
    "    'Interest Rate', 3, 0.1, 10, 0.1\n",
    ")\n",
    "# https://www.nerdwallet.com/blog/mortgages/the-real-cost-of-your-house/\n",
    "savings_selection, savings = select_range(\n",
    "    'Savings (annually, % of home value)', 2, 0, 20, 1\n",
    ")\n",
    "tax_selection, tax = select_range(\n",
    "    'Tax Rate', 1.5, 1.0, 2.2, 0.1\n",
    ")\n",
    "# https://www.bankrate.com/insurance/homeowners-insurance/homeowners-insurance-cost/\n",
    "insurance_selection, insurance = select_range(\n",
    "    'Insurance (yearly, for 4 rooms)', 1700, 1200, 2200, 10\n",
    ")\n",
    "utilities_selection, utilities  = select_range(\n",
    "    'Uilities (monthly, per Room)', 20, 0, 100, 0.1\n",
    ")\n",
    "# https://www.nerdwallet.com/article/mortgages/closing-costs-mortgage-fees-explained\n",
    "# 2-5%\n",
    "closing_fee_selection, closing_fee = select_range(\n",
    "    'Closing Fee Rate', 3, 0, 5, 1\n",
    ")\n",
    "rooms_selection, rooms = select_range(\n",
    "    'Rooms', 4, 1, 7, 1\n",
    ")\n",
    "land_trust_selection, land_trust = select_range(\n",
    "    'Land Trust (% owned)', 50, 0, 100, 1\n",
    ")\n",
    "\n",
    "land_trust_fee_selection, land_trust_fee = select_range(\n",
    "    'Land Trust (fee % / yr)', 3.4, 2, 5, 0.1\n",
    ")\n",
    "\n",
    "cost = datum.cost\n",
    "\n",
    "\n",
    "cost_for_house = cost * (1 - land_trust / 100)\n",
    "cost_for_land = cost * land_trust / 100\n",
    "loan_amount = cost_for_house + expr.round(cost_for_house * closing_fee / 100)\n",
    "monthly_interest = interest / 12 / 100\n",
    "n_months = lease_term * 12\n",
    "\n",
    "calculations = {\n",
    "    \"mortgage_payment\": expr.round(expr.if_(\n",
    "        lease_term <= 0,\n",
    "        # interest only\n",
    "        monthly_interest * loan_amount,\n",
    "        monthly_interest * loan_amount / (1 - ((1 + monthly_interest) ** (-n_months)))\n",
    "    )),\n",
    "    \"land_trust_fee\": land_trust_fee / 100 / 12 * cost_for_land,\n",
    "    \"savings_month\":  expr.round(cost * (savings / 100) / 12),\n",
    "    \"tax_month\":  expr.round(cost * tax / 100 / 12),\n",
    "    \"insurance_month\":  expr.round(insurance / 12),\n",
    "    \"utilities\": expr.round(utilities),\n",
    "    \"total_monthly\": (\n",
    "        datum.mortgage_payment +\n",
    "        datum.savings_month +\n",
    "        datum.tax_month +\n",
    "        datum.insurance_month + \n",
    "        datum.utilities + \n",
    "        datum.land_trust_fee\n",
    "    ),\n",
    "    \"rent\": expr.round(datum.total_monthly / rooms)\n",
    "}\n",
    "\n",
    "# TODO: add PMI"
   ]
  },
  {
   "cell_type": "code",
   "execution_count": 14,
   "metadata": {},
   "outputs": [
    {
     "data": {
      "application/vnd.vegalite.v4+json": {
       "$schema": "https://vega.github.io/schema/vega-lite/v4.8.1.json",
       "config": {
        "view": {
         "continuousHeight": 300,
         "continuousWidth": 400
        }
       },
       "data": {
        "sequence": {
         "as": "cost",
         "start": 60000,
         "step": 10000,
         "stop": 500000
        }
       },
       "encoding": {
        "color": {
         "condition": {
          "test": "(datum.rent < 500)",
          "value": "blue"
         },
         "value": "lightgray"
        },
        "tooltip": [
         {
          "field": "rent",
          "type": "quantitative"
         },
         {
          "field": "cost",
          "type": "quantitative"
         }
        ],
        "x": {
         "axis": {
          "format": "$,.0f",
          "title": "House Price"
         },
         "field": "cost",
         "type": "quantitative"
        },
        "y": {
         "field": "rent",
         "type": "quantitative"
        }
       },
       "height": 400,
       "mark": "bar",
       "selection": {
        "selector021": {
         "bind": {
          "input": "range",
          "max": 45,
          "min": 0,
          "name": "Lease Term",
          "step": 5
         },
         "fields": [
          "_"
         ],
         "init": {
          "_": 30
         },
         "type": "single"
        },
        "selector022": {
         "bind": {
          "input": "range",
          "max": 10,
          "min": 0.1,
          "name": "Interest Rate",
          "step": 0.1
         },
         "fields": [
          "_"
         ],
         "init": {
          "_": 3
         },
         "type": "single"
        },
        "selector023": {
         "bind": {
          "input": "range",
          "max": 20,
          "min": 0,
          "name": "Savings (annually, % of home value)",
          "step": 1
         },
         "fields": [
          "_"
         ],
         "init": {
          "_": 2
         },
         "type": "single"
        },
        "selector024": {
         "bind": {
          "input": "range",
          "max": 2.2,
          "min": 1,
          "name": "Tax Rate",
          "step": 0.1
         },
         "fields": [
          "_"
         ],
         "init": {
          "_": 1.5
         },
         "type": "single"
        },
        "selector025": {
         "bind": {
          "input": "range",
          "max": 2200,
          "min": 1200,
          "name": "Insurance (yearly, for 4 rooms)",
          "step": 10
         },
         "fields": [
          "_"
         ],
         "init": {
          "_": 1700
         },
         "type": "single"
        },
        "selector026": {
         "bind": {
          "input": "range",
          "max": 100,
          "min": 0,
          "name": "Uilities (monthly, per Room)",
          "step": 0.1
         },
         "fields": [
          "_"
         ],
         "init": {
          "_": 20
         },
         "type": "single"
        },
        "selector027": {
         "bind": {
          "input": "range",
          "max": 5,
          "min": 0,
          "name": "Closing Fee Rate",
          "step": 1
         },
         "fields": [
          "_"
         ],
         "init": {
          "_": 3
         },
         "type": "single"
        },
        "selector028": {
         "bind": {
          "input": "range",
          "max": 7,
          "min": 1,
          "name": "Rooms",
          "step": 1
         },
         "fields": [
          "_"
         ],
         "init": {
          "_": 4
         },
         "type": "single"
        },
        "selector029": {
         "bind": {
          "input": "range",
          "max": 100,
          "min": 0,
          "name": "Land Trust (% owned)",
          "step": 1
         },
         "fields": [
          "_"
         ],
         "init": {
          "_": 50
         },
         "type": "single"
        },
        "selector030": {
         "bind": {
          "input": "range",
          "max": 5,
          "min": 2,
          "name": "Land Trust (fee % / yr)",
          "step": 0.1
         },
         "fields": [
          "_"
         ],
         "init": {
          "_": 3.4
         },
         "type": "single"
        }
       },
       "transform": [
        {
         "as": "mortgage_payment",
         "calculate": "round(if((selector021._ <= 0),(((selector022._ / 12) / 100) * ((datum.cost * (1 - (selector029._ / 100))) + round((((datum.cost * (1 - (selector029._ / 100))) * selector027._) / 100)))),((((selector022._ / 12) / 100) * ((datum.cost * (1 - (selector029._ / 100))) + round((((datum.cost * (1 - (selector029._ / 100))) * selector027._) / 100)))) / (1 - pow((1 + ((selector022._ / 12) / 100)),(-(selector021._ * 12)))))))"
        },
        {
         "as": "land_trust_fee",
         "calculate": "(((selector030._ / 100) / 12) * ((datum.cost * selector029._) / 100))"
        },
        {
         "as": "savings_month",
         "calculate": "round(((datum.cost * (selector023._ / 100)) / 12))"
        },
        {
         "as": "tax_month",
         "calculate": "round((((datum.cost * selector024._) / 100) / 12))"
        },
        {
         "as": "insurance_month",
         "calculate": "round((selector025._ / 12))"
        },
        {
         "as": "utilities",
         "calculate": "round(selector026._)"
        },
        {
         "as": "total_monthly",
         "calculate": "(((((datum.mortgage_payment + datum.savings_month) + datum.tax_month) + datum.insurance_month) + datum.utilities) + datum.land_trust_fee)"
        },
        {
         "as": "rent",
         "calculate": "round((datum.total_monthly / selector028._))"
        }
       ],
       "width": 800
      },
      "text/plain": [
       "<VegaLite 4 object>\n",
       "\n",
       "If you see this message, it means the renderer has not been properly enabled\n",
       "for the frontend that you are using. For more information, see\n",
       "https://altair-viz.github.io/user_guide/troubleshooting.html\n"
      ]
     },
     "execution_count": 14,
     "metadata": {},
     "output_type": "execute_result"
    }
   ],
   "source": [
    "MAX_COST = 500\n",
    "bars = alt.Chart(\n",
    "    alt.sequence(\n",
    "        60 * 1000,\n",
    "        500 * 1000,\n",
    "        10000,\n",
    "        as_='cost'\n",
    "    )\n",
    ").transform_calculate(\n",
    "    **calculations\n",
    ").mark_bar().encode(\n",
    "    y='rent:Q',\n",
    "    x=alt.X('cost:Q', axis=alt.Axis(format='$,.0f', title='House Price')),\n",
    "    tooltip=alt.Tooltip(['rent:Q', 'cost:Q']),\n",
    "    color=alt.condition(\n",
    "        datum.rent < MAX_COST,\n",
    "        alt.value('blue'),\n",
    "        alt.value('lightgray')\n",
    "    )\n",
    ")\n",
    "\n",
    "# text = bars.mark_text(\n",
    "#     align='right',\n",
    "# #     baseline='middle',\n",
    "#     dx=3  # Nudges text to right so it doesn't appear on top of the bar\n",
    "# ).encode(\n",
    "#     text='cost:Q'\n",
    "# )\n",
    "\n",
    "# bars = source\n",
    "# bars\n",
    "bars.add_selection(\n",
    "    lease_term_selection\n",
    ").add_selection(\n",
    "    interest_selection\n",
    ").add_selection(\n",
    "    savings_selection\n",
    ").add_selection(\n",
    "    tax_selection\n",
    ").add_selection(\n",
    "    insurance_selection\n",
    ").add_selection(\n",
    "    utilities_selection\n",
    ").add_selection(\n",
    "    closing_fee_selection\n",
    ").add_selection(\n",
    "    rooms_selection\n",
    ").add_selection(\n",
    "    land_trust_fee_selection\n",
    ").add_selection(\n",
    "    land_trust_selection\n",
    ").properties(\n",
    "    width=800,\n",
    "    height=400\n",
    ")\n",
    "# bars"
   ]
  },
  {
   "cell_type": "code",
   "execution_count": null,
   "metadata": {},
   "outputs": [],
   "source": []
  },
  {
   "cell_type": "code",
   "execution_count": null,
   "metadata": {},
   "outputs": [],
   "source": []
  }
 ],
 "metadata": {
  "kernelspec": {
   "display_name": "Python 3",
   "language": "python",
   "name": "python3"
  },
  "language_info": {
   "codemirror_mode": {
    "name": "ipython",
    "version": 3
   },
   "file_extension": ".py",
   "mimetype": "text/x-python",
   "name": "python",
   "nbconvert_exporter": "python",
   "pygments_lexer": "ipython3",
   "version": "3.7.6"
  }
 },
 "nbformat": 4,
 "nbformat_minor": 4
}
